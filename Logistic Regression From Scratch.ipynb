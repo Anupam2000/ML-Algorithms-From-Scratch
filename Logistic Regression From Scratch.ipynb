{
 "cells": [
  {
   "cell_type": "code",
   "execution_count": 66,
   "metadata": {},
   "outputs": [],
   "source": [
    "import numpy as np\n",
    "import matplotlib.pyplot as plt\n",
    "from sklearn.datasets import load_breast_cancer"
   ]
  },
  {
   "cell_type": "code",
   "execution_count": 67,
   "metadata": {},
   "outputs": [],
   "source": [
    "# Load and split data\n",
    "data = load_breast_cancer()\n",
    "X,y = data['data'],data['target']"
   ]
  },
  {
   "cell_type": "code",
   "execution_count": 68,
   "metadata": {},
   "outputs": [],
   "source": [
    "# Custom train test split\n",
    "def train_test_divide(X,y,test_size=0.3,random_state=42):\n",
    "    np.random.seed(random_state)\n",
    "    train_size = 1 - test_size\n",
    "    arr_rand = np.random.rand(X.shape[0])\n",
    "    split = arr_rand < np.percentile(arr_rand,(100*train_size))\n",
    "    \n",
    "    X_train = X[split]\n",
    "    y_train = y[split]\n",
    "    X_test =  X[~split]\n",
    "    y_test = y[~split]\n",
    "    \n",
    "    return X_train, X_test, y_train, y_test \n",
    "\n",
    "def precision_recall_acc(y_true,y_pred,model):\n",
    "    TP = np.sum((y_true == 1) & (y_pred == 1))\n",
    "    TN = np.sum((y_true == 0) & (y_pred == 0))\n",
    "    FN = np.sum((y_true == 1) & (y_pred == 0))\n",
    "    FP = np.sum((y_true == 0) & (y_pred == 1))\n",
    "    \n",
    "    precision = round(TP / (TP+FP),2)\n",
    "    recall = round(TP / (TP+FN),2)\n",
    "    accuracy = round((model.predict(X_test) == y_test).mean(),2)\n",
    "    \n",
    "    print('Precision: ' + str(precision))\n",
    "    print('Recall: ' + str(recall))\n",
    "    print('Accuracy: ' + str(accuracy))"
   ]
  },
  {
   "cell_type": "code",
   "execution_count": 69,
   "metadata": {},
   "outputs": [],
   "source": [
    "X_train,X_test,y_train,y_test = train_test_divide(X,y,test_size=0.3,random_state=42)"
   ]
  },
  {
   "cell_type": "code",
   "execution_count": 70,
   "metadata": {},
   "outputs": [],
   "source": [
    "class LogReg:\n",
    "    def __init__(self,X,y):\n",
    "        self.X = X\n",
    "        self.y = y\n",
    "        self.m = len(y)\n",
    "        self.bgd = False\n",
    "        \n",
    "        \n",
    "    def sigmoid(self,z):\n",
    "        return 1/ (1 + np.exp(-z))\n",
    "    \n",
    "    def cost_function(self,X,y):\n",
    "        h = self.sigmoid(X.dot(self.thetas.T))\n",
    "        m = len(y)\n",
    "        J = (1/m) * (-y.dot(h) - (1-y).dot(np.log(1-h)))\n",
    "        return J\n",
    "\n",
    "    def add_intercept_term(self,X):\n",
    "        X = np.insert(X,0,np.ones(X.shape[0:1]),axis=1).copy()\n",
    "        return X\n",
    "        \n",
    "    def feature_scale(self,X):\n",
    "        X = (X - X.mean()) / (X.std())\n",
    "        return X\n",
    "    \n",
    "    def initialise_thetas(self):\n",
    "        np.random.seed(42)\n",
    "        self.thetas = np.random.rand(self.X.shape[1])\n",
    "\n",
    "        \n",
    "    def normal_equation(self):\n",
    "        A = np.linalg.inv(np.dot(self.X.T,self.X))\n",
    "        B = np.dot(self.X.T,self.y)\n",
    "        thetas = np.dot(A,B)\n",
    "        return thetas\n",
    "    \n",
    "    def batch_gradient_descent(self,alpha,n_iterations):\n",
    "        self.cost_history = [0] * (n_iterations)\n",
    "        self.n_iterations = n_iterations\n",
    "        \n",
    "        for i in range(n_iterations):\n",
    "            h = self.sigmoid(np.dot(self.X,self.thetas.T))\n",
    "            gradient = alpha * (1/self.m) * (h - self.y).dot(self.X)\n",
    "            self.thetas = self.thetas - gradient\n",
    "            self.cost_history[i] = self.cost_function(self.X,self.y)\n",
    "        \n",
    "        return self.thetas\n",
    "    \n",
    "    \n",
    "    def fit(self,bgd=False,alpha=0.4,n_iterations=2000):\n",
    "        self.X = self.feature_scale(self.X)\n",
    "        if bgd == False:\n",
    "            self.add_intercept_term(self.X)\n",
    "            self.thetas = self.normal_equation()\n",
    "        else:\n",
    "            self.bgd = True\n",
    "            self.add_intercept_term(self.X)\n",
    "            self.initialise_thetas()\n",
    "            \n",
    "            self.thetas = self.batch_gradient_descent(alpha,n_iterations)\n",
    "            \n",
    "    def plot_cost_function(self):\n",
    "        \n",
    "        if self.bgd == True:\n",
    "            plt.plot(range((self.n_iterations)),self.cost_history)\n",
    "            plt.xlabel('No. of iterations')\n",
    "            plt.ylabel('Cost Function')\n",
    "            plt.title('Gradient Descent Cost Function Line Plot')\n",
    "            plt.show()\n",
    "        else:\n",
    "            print('Batch Gradient Descent was not used!')\n",
    "            \n",
    "    def predict(self,X_test):\n",
    "        self.X_test = X_test.copy()\n",
    "        self.X_test = self.feature_scale(self.X_test)\n",
    "        h = self.sigmoid(np.dot(self.X_test,self.thetas.T))\n",
    "        predictions = (h >= 0.5).astype(int)\n",
    "        return predictions"
   ]
  },
  {
   "cell_type": "code",
   "execution_count": 71,
   "metadata": {},
   "outputs": [
    {
     "name": "stdout",
     "output_type": "stream",
     "text": [
      "Precision: 0.79\n",
      "Recall: 1.0\n",
      "Accuracy: 0.82\n"
     ]
    }
   ],
   "source": [
    "log_reg_norm = LogReg(X_train,y_train)\n",
    "log_reg_norm.fit(bgd=False)\n",
    "precision_recall_acc(y_test,log_reg_norm.predict(X_test),log_reg_norm)"
   ]
  },
  {
   "cell_type": "code",
   "execution_count": 72,
   "metadata": {
    "scrolled": true
   },
   "outputs": [
    {
     "data": {
      "image/png": "[encoded data removed]",
      "text/plain": [
       "<Figure size 432x288 with 1 Axes>"
      ]
     },
     "metadata": {
      "needs_background": "light"
     },
     "output_type": "display_data"
    },
    {
     "name": "stdout",
     "output_type": "stream",
     "text": [
      "Precision: 0.96\n",
      "Recall: 0.97\n",
      "Accuracy: 0.96\n"
     ]
    }
   ],
   "source": [
    "log_reg_bgd = LogReg(X_train,y_train)\n",
    "log_reg_bgd.fit(bgd=True)\n",
    "log_reg_bgd.plot_cost_function()\n",
    "precision_recall_acc(y_test,log_reg_bgd.predict(X_test),log_reg_bgd)"
   ]
  },
  {
   "cell_type": "code",
   "execution_count": null,
   "metadata": {},
   "outputs": [],
   "source": []
  },
  {
   "cell_type": "code",
   "execution_count": null,
   "metadata": {},
   "outputs": [],
   "source": []
  },
  {
   "cell_type": "code",
   "execution_count": null,
   "metadata": {},
   "outputs": [],
   "source": []
  }
 ],
 "metadata": {
  "kernelspec": {
   "display_name": "Python 3",
   "language": "python",
   "name": "python3"
  },
  "language_info": {
   "codemirror_mode": {
    "name": "ipython",
    "version": 3
   },
   "file_extension": ".py",
   "mimetype": "text/x-python",
   "name": "python",
   "nbconvert_exporter": "python",
   "pygments_lexer": "ipython3",
   "version": "3.7.4"
  }
 },
 "nbformat": 4,
 "nbformat_minor": 4
}
