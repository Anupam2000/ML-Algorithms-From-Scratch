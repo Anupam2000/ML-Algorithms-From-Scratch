{
 "cells": [
  {
   "cell_type": "code",
   "execution_count": 1,
   "metadata": {},
   "outputs": [],
   "source": [
    "import numpy as np\n",
    "from collections import Counter\n",
    "from sklearn.datasets import load_iris\n",
    "from sklearn.model_selection import train_test_split"
   ]
  },
  {
   "cell_type": "code",
   "execution_count": 2,
   "metadata": {},
   "outputs": [],
   "source": [
    "# Load data\n",
    "iris = load_iris()\n",
    "X, y = iris.data, iris.target"
   ]
  },
  {
   "cell_type": "code",
   "execution_count": 3,
   "metadata": {},
   "outputs": [],
   "source": [
    "# Split data into train and test\n",
    "X_train,X_test,y_train,y_test = train_test_split(X,y,random_state=1810)"
   ]
  },
  {
   "cell_type": "code",
   "execution_count": 4,
   "metadata": {},
   "outputs": [
    {
     "data": {
      "text/plain": [
       "((112, 4), (38, 4), (112,), (38,))"
      ]
     },
     "execution_count": 4,
     "metadata": {},
     "output_type": "execute_result"
    }
   ],
   "source": [
    "# Print shape of data\n",
    "X_train.shape,X_test.shape,y_train.shape,y_test.shape"
   ]
  },
  {
   "cell_type": "code",
   "execution_count": 5,
   "metadata": {},
   "outputs": [],
   "source": [
    "class KNN:\n",
    "    '''\n",
    "    -------- Base KNN Class -------\n",
    "    \n",
    "    Inputs:\n",
    "    \n",
    "    X: the training set features to fit the data on\n",
    "    Y: the training set labels to fit the data on\n",
    "    n_neighbors: the number of neighbours\n",
    "    \n",
    "    Methods:\n",
    "    \n",
    "    1. euclidean: A method to calculate euclidean distance\n",
    "    \n",
    "    Input:\n",
    "    x1: the first point to calculate the distance from\n",
    "    x2: the second point to calculate the distance from\n",
    "    \n",
    "    Returns: euclidean distance between the two points\n",
    "    \n",
    "    2. fit_knn: internal method to fit a KNN on the data\n",
    "    \n",
    "    Input:\n",
    "    X_test = the test set to calculate distances from\n",
    "    \n",
    "    Returns: nearest labels to the test set instances\n",
    "    \n",
    "    3. predict: method to make predictions\n",
    "    \n",
    "    Input:\n",
    "    X_test = the test set to make predictions from\n",
    "    \n",
    "    Returns:\n",
    "    preds: the predictions vector\n",
    "    \n",
    "    \n",
    "    '''\n",
    "    def __init__(self,X,y,n_neighbors=3):\n",
    "        self.X = X\n",
    "        self.y = y\n",
    "        self.n_neighbors = n_neighbors\n",
    "        \n",
    "    def euclidean(self,x1,x2):\n",
    "        return np.sqrt(np.sum((x1 - x2) ** 2))\n",
    "    \n",
    "    def fit_knn(self,X_test):\n",
    "        distances = [self.euclidean(X_test,x) for x in X_train]\n",
    "        k_nearest = np.argsort(distances)[:self.n_neighbors]\n",
    "        k_nearest_labels = [y_train[i] for i in k_nearest]\n",
    "        \n",
    "        most_common = Counter(k_nearest_labels).most_common(1)[0][0]\n",
    "        return most_common\n",
    "    \n",
    "    def predict(self,X_test):\n",
    "        preds = [self.fit_knn(x) for x in X_test]\n",
    "        return preds"
   ]
  },
  {
   "cell_type": "code",
   "execution_count": 6,
   "metadata": {},
   "outputs": [],
   "source": [
    "# Instantiate our KNN classifier\n",
    "knn = KNN(X_train,y_train)"
   ]
  },
  {
   "cell_type": "code",
   "execution_count": 7,
   "metadata": {},
   "outputs": [
    {
     "data": {
      "text/plain": [
       "1.0"
      ]
     },
     "execution_count": 7,
     "metadata": {},
     "output_type": "execute_result"
    }
   ],
   "source": [
    "# Calculate and print accuracy of model\n",
    "accuracy = (y_test == knn.predict(X_test)).mean()\n",
    "accuracy"
   ]
  },
  {
   "cell_type": "code",
   "execution_count": null,
   "metadata": {},
   "outputs": [],
   "source": []
  }
 ],
 "metadata": {
  "kernelspec": {
   "display_name": "Python 3",
   "language": "python",
   "name": "python3"
  },
  "language_info": {
   "codemirror_mode": {
    "name": "ipython",
    "version": 3
   },
   "file_extension": ".py",
   "mimetype": "text/x-python",
   "name": "python",
   "nbconvert_exporter": "python",
   "pygments_lexer": "ipython3",
   "version": "3.7.4"
  }
 },
 "nbformat": 4,
 "nbformat_minor": 4
}
