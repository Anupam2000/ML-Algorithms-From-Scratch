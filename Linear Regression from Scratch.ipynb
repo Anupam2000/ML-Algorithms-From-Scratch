{
 "cells": [
  {
   "cell_type": "code",
   "execution_count": 1,
   "metadata": {},
   "outputs": [],
   "source": [
    "import numpy as np\n",
    "import matplotlib.pyplot as plt\n",
    "from sklearn.datasets import load_boston"
   ]
  },
  {
   "cell_type": "code",
   "execution_count": 11,
   "metadata": {},
   "outputs": [],
   "source": [
    "# Load and split data\n",
    "data = load_boston()\n",
    "X,y = data['data'],data['target']\n",
    "X = (X - X.mean()) / (X.std())\n",
    "X = np.insert(X,0,np.ones(X.shape[0:1]),axis=1)"
   ]
  },
  {
   "cell_type": "code",
   "execution_count": 3,
   "metadata": {},
   "outputs": [],
   "source": [
    "# Custom train test split\n",
    "def train_test_divide(X,y,test_size=0.3,random_state=42):\n",
    "    np.random.seed(random_state)\n",
    "    train_size = 1 - test_size\n",
    "    arr_rand = np.random.rand(X.shape[0])\n",
    "    split = arr_rand < np.percentile(arr_rand,(100*train_size))\n",
    "    \n",
    "    X_train = X[split]\n",
    "    y_train = y[split]\n",
    "    X_test =  X[~split]\n",
    "    y_test = y[~split]\n",
    "    \n",
    "    return X_train, X_test, y_train, y_test\n",
    "\n",
    "def mse(preds,y):\n",
    "        m = len(y)\n",
    "        return 1/(m) * np.sum(np.square((y - preds)))"
   ]
  },
  {
   "cell_type": "code",
   "execution_count": 4,
   "metadata": {},
   "outputs": [],
   "source": [
    "X_train,X_test,y_train,y_test = train_test_divide(X,y,test_size=0.3,random_state=42)"
   ]
  },
  {
   "cell_type": "code",
   "execution_count": 5,
   "metadata": {},
   "outputs": [],
   "source": [
    "class LinReg:\n",
    "    def __init__(self,X,y):\n",
    "        self.X = X\n",
    "        self.y = y\n",
    "        self.m = len(y)\n",
    "        self.bgd = False\n",
    "    \n",
    "    def add_intercept_term(self,X):\n",
    "        X = np.insert(X,0,np.ones(X.shape[0:1]),axis=1).copy()\n",
    "        return X\n",
    "        \n",
    "    def feature_scale(self,X):\n",
    "        X = (X - X.mean()) / (X.std())\n",
    "        return X\n",
    "    \n",
    "    def initialise_thetas(self):\n",
    "        np.random.seed(42)\n",
    "        self.thetas = np.random.rand(self.X.shape[1])\n",
    "\n",
    "        \n",
    "    def normal_equation(self):\n",
    "        A = np.linalg.inv(np.dot(self.X.T,self.X))\n",
    "        B = np.dot(self.X.T,self.y)\n",
    "        thetas = np.dot(A,B)\n",
    "        return thetas\n",
    "    \n",
    "    \n",
    "    def batch_gradient_descent(self,alpha,n_iterations):\n",
    "        self.cost_history = [0] * (n_iterations)\n",
    "        self.n_iterations = n_iterations\n",
    "        \n",
    "        for i in range(n_iterations):\n",
    "            h = np.dot(self.X,self.thetas.T)\n",
    "            gradient = alpha * (1/self.m) * ((h - self.y)).dot(self.X)\n",
    "            \n",
    "            self.thetas = self.thetas - gradient\n",
    "            self.cost_history[i] = mse(np.dot(self.X,self.thetas.T),self.y)\n",
    "            \n",
    "        return self.thetas\n",
    "    \n",
    "    def fit(self,bgd=False,alpha=0.158,n_iterations=4000):\n",
    "        self.X = self.add_intercept_term(self.X)\n",
    "        self.X = self.feature_scale(self.X)\n",
    "        if bgd == False:\n",
    "            \n",
    "            self.thetas = self.normal_equation()\n",
    "        else:\n",
    "            self.bgd = True\n",
    "            self.initialise_thetas()\n",
    "            self.thetas = self.batch_gradient_descent(alpha,n_iterations)\n",
    "            \n",
    "    def plot_cost_function(self):\n",
    "        \n",
    "        if self.bgd == True:\n",
    "            plt.plot(range((self.n_iterations)),self.cost_history)\n",
    "            plt.xlabel('No. of iterations')\n",
    "            plt.ylabel('Cost Function')\n",
    "            plt.title('Gradient Descent Cost Function Line Plot')\n",
    "            plt.show()\n",
    "        else:\n",
    "            print('Batch Gradient Descent was not used!')\n",
    "    \n",
    "    def predict(self,X_test):\n",
    "        self.X_test = X_test.copy()\n",
    "        self.X_test = self.add_intercept_term(self.X_test)\n",
    "        self.X_test = self.feature_scale(self.X_test)\n",
    "        predictions = np.dot(self.X_test,self.thetas.T)\n",
    "        return predictions\n"
   ]
  },
  {
   "cell_type": "code",
   "execution_count": 6,
   "metadata": {},
   "outputs": [],
   "source": [
    "lin_reg_bgd = LinReg(X_train,y_train)\n",
    "lin_reg_bgd.fit(bgd=True)"
   ]
  },
  {
   "cell_type": "code",
   "execution_count": 7,
   "metadata": {},
   "outputs": [
    {
     "data": {
      "text/plain": [
       "28.83154047513958"
      ]
     },
     "execution_count": 7,
     "metadata": {},
     "output_type": "execute_result"
    }
   ],
   "source": [
    "mse(y_test,lin_reg_bgd.predict(X_test))"
   ]
  },
  {
   "cell_type": "code",
   "execution_count": 8,
   "metadata": {},
   "outputs": [
    {
     "data": {
      "image/png": "[encoded data removed]",
      "text/plain": [
       "<Figure size 432x288 with 1 Axes>"
      ]
     },
     "metadata": {
      "needs_background": "light"
     },
     "output_type": "display_data"
    }
   ],
   "source": [
    "lin_reg_bgd.plot_cost_function()"
   ]
  },
  {
   "cell_type": "code",
   "execution_count": 9,
   "metadata": {},
   "outputs": [],
   "source": [
    "lin_reg_normal = LinReg(X_train,y_train)\n",
    "lin_reg_normal.fit()"
   ]
  },
  {
   "cell_type": "code",
   "execution_count": 10,
   "metadata": {},
   "outputs": [
    {
     "data": {
      "text/plain": [
       "22.15141775886376"
      ]
     },
     "execution_count": 10,
     "metadata": {},
     "output_type": "execute_result"
    }
   ],
   "source": [
    "mse(y_test,lin_reg_normal.predict(X_test))"
   ]
  }
 ],
 "metadata": {
  "kernelspec": {
   "display_name": "Python 3",
   "language": "python",
   "name": "python3"
  },
  "language_info": {
   "codemirror_mode": {
    "name": "ipython",
    "version": 3
   },
   "file_extension": ".py",
   "mimetype": "text/x-python",
   "name": "python",
   "nbconvert_exporter": "python",
   "pygments_lexer": "ipython3",
   "version": "3.7.4"
  }
 },
 "nbformat": 4,
 "nbformat_minor": 4
}
